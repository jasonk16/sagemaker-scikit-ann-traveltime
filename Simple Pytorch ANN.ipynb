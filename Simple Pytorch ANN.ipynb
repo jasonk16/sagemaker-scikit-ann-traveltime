{
 "cells": [
  {
   "cell_type": "code",
   "execution_count": 2,
   "metadata": {},
   "outputs": [],
   "source": [
    "import sagemaker\n",
    "from sagemaker import get_execution_role\n",
    "import torch\n",
    "import torch.nn as nn\n",
    "import torch.functional as f\n",
    "import torch.optim as optim\n",
    "import pandas as pd\n",
    "from torch.utils.data import random_split, TensorDataset, DataLoader\n",
    "from sklearn.model_selection import train_test_split\n",
    "import matplotlib.pyplot as plt\n",
    "import time\n",
    "import numpy as np"
   ]
  },
  {
   "cell_type": "code",
   "execution_count": 3,
   "metadata": {},
   "outputs": [
    {
     "name": "stdout",
     "output_type": "stream",
     "text": [
      "tensor([[ 1.2000e+01, -3.1432e-01,  5.1517e+01, -2.6322e-01,  5.1623e+01,\n",
      "          1.8053e+04],\n",
      "        [ 1.5000e+01, -9.4330e-02,  5.1318e+01, -1.0651e-01,  5.1388e+01,\n",
      "          9.7661e+03],\n",
      "        [ 1.8000e+01, -4.6590e-02,  5.1419e+01, -1.3372e-01,  5.1398e+01,\n",
      "          8.8624e+03],\n",
      "        ...,\n",
      "        [ 1.3000e+01, -3.1403e-01,  5.1505e+01, -1.9315e-01,  5.1521e+01,\n",
      "          1.2252e+04],\n",
      "        [ 7.0000e+00, -2.3532e-01,  5.1397e+01, -2.7983e-01,  5.1389e+01,\n",
      "          5.5678e+03],\n",
      "        [ 0.0000e+00, -1.5530e-01,  5.1339e+01, -1.6564e-01,  5.1396e+01,\n",
      "          7.4586e+03]])\n"
     ]
    }
   ],
   "source": [
    "#Read and split dataset\n",
    "bucket = 'sagemaker-ann-fyp'\n",
    "data_key = 'complete_dataset.csv' \n",
    "travel_data = 's3://{}/{}'.format(bucket,data_key)\n",
    "\n",
    "full_dataset = pd.read_csv(travel_data)\n",
    "\n",
    "dataset_features = ['hod','sourcelong','sourcelat','dstlong','dstlat','distance']\n",
    "X = full_dataset[dataset_features]\n",
    "y = full_dataset['mean_travel_time']\n",
    "\n",
    "train_X, test_X, train_y, test_y = train_test_split(X,y,random_state=0)\n",
    "\n",
    "train_X = torch.FloatTensor(train_X.values)\n",
    "test_X = torch.FloatTensor(test_X.values)\n",
    "\n",
    "train_y = torch.FloatTensor(train_y.values)\n",
    "test_y = torch.FloatTensor(test_y.values)\n",
    "\n",
    "print(train_X)"
   ]
  },
  {
   "cell_type": "code",
   "execution_count": 4,
   "metadata": {},
   "outputs": [],
   "source": [
    "device = torch.device(\"cuda\" if torch.cuda.is_available() else \"cpu\")"
   ]
  },
  {
   "cell_type": "code",
   "execution_count": 5,
   "metadata": {},
   "outputs": [],
   "source": [
    "#Custom Data loaders\n",
    "train_data = TensorDataset(train_X,train_y)\n",
    "test_data = TensorDataset(test_X,test_y)\n",
    "\n",
    "batch_size = 200\n",
    "\n",
    "train_loader = DataLoader(train_data, shuffle=True, batch_size=batch_size)\n",
    "test_loader = DataLoader(test_data, shuffle=True, batch_size=batch_size)\n",
    "\n",
    "#print(next(iter(train_loader)))"
   ]
  },
  {
   "cell_type": "code",
   "execution_count": 6,
   "metadata": {},
   "outputs": [],
   "source": [
    "class MLP(nn.Module):\n",
    "    def __init__(self, in_dim, hidden_dim, out_dim=1):\n",
    "        super(MLP, self).__init__()\n",
    "        \n",
    "        assert out_dim==1, 'out_dim must be 1'\n",
    "        \n",
    "        self.in_dim = in_dim\n",
    "        self.hidden_dim = hidden_dim\n",
    "        self.out_dim = out_dim\n",
    "        \n",
    "        #creating a module list of hidden layers & adding the input layer as 1st layer in the list\n",
    "        self.hidden_layers = nn.ModuleList([nn.Linear(self.in_dim, self.hidden_dim[0])])\n",
    "        \n",
    "        #create a list of hidden layers by pairing hidden layer dims, and a for loop to create layers \n",
    "        #depending on given list of dimensions\n",
    "        hidden_layer_sizes = zip(self.hidden_dim[:-1], self.hidden_dim[1:])\n",
    "        for (layer_in, layer_out) in hidden_layer_sizes:\n",
    "            self.hidden_layers.extend([nn.Linear(layer_in, layer_out)])\n",
    "        #creates the last layer    \n",
    "        self.output = nn.Linear(self.hidden_dim[-1], self.out_dim)\n",
    "        \n",
    "        #self.linear1 = nn.Linear(self.in_dim, self.hidden_dim[0])\n",
    "        #self.linear2 = nn.Linear(self.hidden_dim[0], self.hidden_dim[1])\n",
    "        #self.linear3 = nn.Linear(self.hidden_dim[1], self.hidden_dim[2])\n",
    "        #self.linear4 = nn.Linear(self.hidden_dim[2], self.hidden_dim[3])\n",
    "        #self.linear5 = nn.Linear(self.hidden_dim[3], self.hidden_dim[4])\n",
    "        #self.linear6 = nn.Linear(self.hidden_dim[4], self.hidden_dim[5])\n",
    "        #self.linear7 = nn.Linear(self.hidden_dim[5], self.out_dim)\n",
    "        self.dropout = nn.Dropout(p = 0.5)\n",
    "    \n",
    "    def forward(self, x):\n",
    "         #a for loop to loop through each layer in the hidden layer module list\n",
    "        for h_layer in iter(self.hidden_layers):\n",
    "            x = self.dropout(torch.relu(h_layer(x)))\n",
    "        \n",
    "        #x = torch.relu(self.linear1(x))\n",
    "        #x = torch.relu(self.linear2(x))\n",
    "        #x = torch.relu(self.linear3(x))\n",
    "        #x = torch.relu(self.linear4(x))\n",
    "        #x = torch.relu(self.linear5(x))\n",
    "        #x = torch.relu(self.linear6(x))\n",
    "        #x = self.linear7(x)\n",
    "        x = self.output(x)\n",
    "        \n",
    "        x = x.squeeze(1)\n",
    "        return x"
   ]
  },
  {
   "cell_type": "code",
   "execution_count": 7,
   "metadata": {},
   "outputs": [],
   "source": [
    "def mae_loss(y_pred, y_true):\n",
    "    mae = torch.abs(y_true - y_pred).mean()\n",
    "    return mae"
   ]
  },
  {
   "cell_type": "code",
   "execution_count": 8,
   "metadata": {},
   "outputs": [],
   "source": [
    "mlp = MLP(train_X.shape[1], [16,12,10,8,6,4], 1).to(device)\n",
    "optimizer = optim.Adam(mlp.parameters())"
   ]
  },
  {
   "cell_type": "code",
   "execution_count": 10,
   "metadata": {},
   "outputs": [
    {
     "name": "stdout",
     "output_type": "stream",
     "text": [
      "Epoch:1 Batch:562/562 Loss:1774.4160 Time:0m2.46s\n",
      "Valid Loss:1682.9467\n",
      "Epoch:2 Batch:562/562 Loss:1798.2843 Time:0m3.62s\n",
      "Valid Loss:1682.2206\n",
      "Epoch:3 Batch:562/562 Loss:1725.0315 Time:0m3.13s\n",
      "Valid Loss:1681.1531\n",
      "Epoch:4 Batch:562/562 Loss:1593.7145 Time:0m3.81s\n",
      "Valid Loss:1494.8391\n",
      "Epoch:5 Batch:562/562 Loss:1215.7323 Time:0m3.88s\n",
      "Valid Loss:1243.7571\n",
      "Epoch:6 Batch:562/562 Loss:1371.2534 Time:0m3.79s\n",
      "Valid Loss:1353.4781\n",
      "Epoch:7 Batch:562/562 Loss:1216.4010 Time:0m3.95s\n",
      "Valid Loss:1367.0447\n",
      "Epoch:8 Batch:562/562 Loss:1086.9181 Time:0m3.24s\n",
      "Valid Loss:1363.4185\n",
      "Epoch:9 Batch:562/562 Loss:1301.5868 Time:0m3.99s\n",
      "Valid Loss:1342.8912\n",
      "Epoch:10 Batch:562/562 Loss:1246.9731 Time:0m3.59s\n",
      "Valid Loss:1312.1106\n",
      "Epoch:11 Batch:562/562 Loss:1159.3779 Time:0m2.28s\n",
      "Valid Loss:1317.2246\n",
      "Epoch:12 Batch:562/562 Loss:1137.2001 Time:0m3.56s\n",
      "Valid Loss:1375.8609\n",
      "Epoch:13 Batch:562/562 Loss:1218.8854 Time:0m3.92s\n",
      "Valid Loss:1353.7248\n",
      "Epoch:14 Batch:562/562 Loss:1301.4902 Time:0m2.98s\n",
      "Valid Loss:1351.2184\n",
      "Epoch:15 Batch:562/562 Loss:1235.6163 Time:0m3.76s\n",
      "Valid Loss:1364.2190\n"
     ]
    },
    {
     "ename": "KeyboardInterrupt",
     "evalue": "",
     "output_type": "error",
     "traceback": [
      "\u001b[0;31m---------------------------------------------------------------------------\u001b[0m",
      "\u001b[0;31mKeyboardInterrupt\u001b[0m                         Traceback (most recent call last)",
      "\u001b[0;32m<ipython-input-10-6f02f5ae196e>\u001b[0m in \u001b[0;36m<module>\u001b[0;34m\u001b[0m\n\u001b[1;32m     20\u001b[0m     \u001b[0mnum_batch\u001b[0m \u001b[0;34m=\u001b[0m \u001b[0mlen\u001b[0m\u001b[0;34m(\u001b[0m\u001b[0mtrain_loader\u001b[0m\u001b[0;34m)\u001b[0m\u001b[0;34m\u001b[0m\u001b[0;34m\u001b[0m\u001b[0m\n\u001b[1;32m     21\u001b[0m \u001b[0;34m\u001b[0m\u001b[0m\n\u001b[0;32m---> 22\u001b[0;31m     \u001b[0;32mfor\u001b[0m \u001b[0mbatch_id\u001b[0m\u001b[0;34m,\u001b[0m \u001b[0;34m(\u001b[0m\u001b[0mbatch_x\u001b[0m\u001b[0;34m,\u001b[0m \u001b[0mbatch_y\u001b[0m\u001b[0;34m)\u001b[0m \u001b[0;32min\u001b[0m \u001b[0menumerate\u001b[0m\u001b[0;34m(\u001b[0m\u001b[0mtrain_loader\u001b[0m\u001b[0;34m)\u001b[0m\u001b[0;34m:\u001b[0m\u001b[0;34m\u001b[0m\u001b[0;34m\u001b[0m\u001b[0m\n\u001b[0m\u001b[1;32m     23\u001b[0m         \u001b[0my_pred\u001b[0m \u001b[0;34m=\u001b[0m \u001b[0mmlp\u001b[0m\u001b[0;34m(\u001b[0m\u001b[0mbatch_x\u001b[0m\u001b[0;34m)\u001b[0m\u001b[0;34m\u001b[0m\u001b[0;34m\u001b[0m\u001b[0m\n\u001b[1;32m     24\u001b[0m \u001b[0;34m\u001b[0m\u001b[0m\n",
      "\u001b[0;32m~/anaconda3/envs/pytorch_latest_p36/lib/python3.6/site-packages/torch/utils/data/dataloader.py\u001b[0m in \u001b[0;36m__next__\u001b[0;34m(self)\u001b[0m\n\u001b[1;32m    343\u001b[0m \u001b[0;34m\u001b[0m\u001b[0m\n\u001b[1;32m    344\u001b[0m     \u001b[0;32mdef\u001b[0m \u001b[0m__next__\u001b[0m\u001b[0;34m(\u001b[0m\u001b[0mself\u001b[0m\u001b[0;34m)\u001b[0m\u001b[0;34m:\u001b[0m\u001b[0;34m\u001b[0m\u001b[0;34m\u001b[0m\u001b[0m\n\u001b[0;32m--> 345\u001b[0;31m         \u001b[0mdata\u001b[0m \u001b[0;34m=\u001b[0m \u001b[0mself\u001b[0m\u001b[0;34m.\u001b[0m\u001b[0m_next_data\u001b[0m\u001b[0;34m(\u001b[0m\u001b[0;34m)\u001b[0m\u001b[0;34m\u001b[0m\u001b[0;34m\u001b[0m\u001b[0m\n\u001b[0m\u001b[1;32m    346\u001b[0m         \u001b[0mself\u001b[0m\u001b[0;34m.\u001b[0m\u001b[0m_num_yielded\u001b[0m \u001b[0;34m+=\u001b[0m \u001b[0;36m1\u001b[0m\u001b[0;34m\u001b[0m\u001b[0;34m\u001b[0m\u001b[0m\n\u001b[1;32m    347\u001b[0m         \u001b[0;32mif\u001b[0m \u001b[0mself\u001b[0m\u001b[0;34m.\u001b[0m\u001b[0m_dataset_kind\u001b[0m \u001b[0;34m==\u001b[0m \u001b[0m_DatasetKind\u001b[0m\u001b[0;34m.\u001b[0m\u001b[0mIterable\u001b[0m \u001b[0;32mand\u001b[0m\u001b[0;31m \u001b[0m\u001b[0;31m\\\u001b[0m\u001b[0;34m\u001b[0m\u001b[0;34m\u001b[0m\u001b[0m\n",
      "\u001b[0;32m~/anaconda3/envs/pytorch_latest_p36/lib/python3.6/site-packages/torch/utils/data/dataloader.py\u001b[0m in \u001b[0;36m_next_data\u001b[0;34m(self)\u001b[0m\n\u001b[1;32m    382\u001b[0m \u001b[0;34m\u001b[0m\u001b[0m\n\u001b[1;32m    383\u001b[0m     \u001b[0;32mdef\u001b[0m \u001b[0m_next_data\u001b[0m\u001b[0;34m(\u001b[0m\u001b[0mself\u001b[0m\u001b[0;34m)\u001b[0m\u001b[0;34m:\u001b[0m\u001b[0;34m\u001b[0m\u001b[0;34m\u001b[0m\u001b[0m\n\u001b[0;32m--> 384\u001b[0;31m         \u001b[0mindex\u001b[0m \u001b[0;34m=\u001b[0m \u001b[0mself\u001b[0m\u001b[0;34m.\u001b[0m\u001b[0m_next_index\u001b[0m\u001b[0;34m(\u001b[0m\u001b[0;34m)\u001b[0m  \u001b[0;31m# may raise StopIteration\u001b[0m\u001b[0;34m\u001b[0m\u001b[0;34m\u001b[0m\u001b[0m\n\u001b[0m\u001b[1;32m    385\u001b[0m         \u001b[0mdata\u001b[0m \u001b[0;34m=\u001b[0m \u001b[0mself\u001b[0m\u001b[0;34m.\u001b[0m\u001b[0m_dataset_fetcher\u001b[0m\u001b[0;34m.\u001b[0m\u001b[0mfetch\u001b[0m\u001b[0;34m(\u001b[0m\u001b[0mindex\u001b[0m\u001b[0;34m)\u001b[0m  \u001b[0;31m# may raise StopIteration\u001b[0m\u001b[0;34m\u001b[0m\u001b[0;34m\u001b[0m\u001b[0m\n\u001b[1;32m    386\u001b[0m         \u001b[0;32mif\u001b[0m \u001b[0mself\u001b[0m\u001b[0;34m.\u001b[0m\u001b[0m_pin_memory\u001b[0m\u001b[0;34m:\u001b[0m\u001b[0;34m\u001b[0m\u001b[0;34m\u001b[0m\u001b[0m\n",
      "\u001b[0;32m~/anaconda3/envs/pytorch_latest_p36/lib/python3.6/site-packages/torch/utils/data/dataloader.py\u001b[0m in \u001b[0;36m_next_index\u001b[0;34m(self)\u001b[0m\n\u001b[1;32m    337\u001b[0m \u001b[0;34m\u001b[0m\u001b[0m\n\u001b[1;32m    338\u001b[0m     \u001b[0;32mdef\u001b[0m \u001b[0m_next_index\u001b[0m\u001b[0;34m(\u001b[0m\u001b[0mself\u001b[0m\u001b[0;34m)\u001b[0m\u001b[0;34m:\u001b[0m\u001b[0;34m\u001b[0m\u001b[0;34m\u001b[0m\u001b[0m\n\u001b[0;32m--> 339\u001b[0;31m         \u001b[0;32mreturn\u001b[0m \u001b[0mnext\u001b[0m\u001b[0;34m(\u001b[0m\u001b[0mself\u001b[0m\u001b[0;34m.\u001b[0m\u001b[0m_sampler_iter\u001b[0m\u001b[0;34m)\u001b[0m  \u001b[0;31m# may raise StopIteration\u001b[0m\u001b[0;34m\u001b[0m\u001b[0;34m\u001b[0m\u001b[0m\n\u001b[0m\u001b[1;32m    340\u001b[0m \u001b[0;34m\u001b[0m\u001b[0m\n\u001b[1;32m    341\u001b[0m     \u001b[0;32mdef\u001b[0m \u001b[0m_next_data\u001b[0m\u001b[0;34m(\u001b[0m\u001b[0mself\u001b[0m\u001b[0;34m)\u001b[0m\u001b[0;34m:\u001b[0m\u001b[0;34m\u001b[0m\u001b[0;34m\u001b[0m\u001b[0m\n",
      "\u001b[0;32m~/anaconda3/envs/pytorch_latest_p36/lib/python3.6/site-packages/torch/utils/data/sampler.py\u001b[0m in \u001b[0;36m__iter__\u001b[0;34m(self)\u001b[0m\n\u001b[1;32m    198\u001b[0m     \u001b[0;32mdef\u001b[0m \u001b[0m__iter__\u001b[0m\u001b[0;34m(\u001b[0m\u001b[0mself\u001b[0m\u001b[0;34m)\u001b[0m\u001b[0;34m:\u001b[0m\u001b[0;34m\u001b[0m\u001b[0;34m\u001b[0m\u001b[0m\n\u001b[1;32m    199\u001b[0m         \u001b[0mbatch\u001b[0m \u001b[0;34m=\u001b[0m \u001b[0;34m[\u001b[0m\u001b[0;34m]\u001b[0m\u001b[0;34m\u001b[0m\u001b[0;34m\u001b[0m\u001b[0m\n\u001b[0;32m--> 200\u001b[0;31m         \u001b[0;32mfor\u001b[0m \u001b[0midx\u001b[0m \u001b[0;32min\u001b[0m \u001b[0mself\u001b[0m\u001b[0;34m.\u001b[0m\u001b[0msampler\u001b[0m\u001b[0;34m:\u001b[0m\u001b[0;34m\u001b[0m\u001b[0;34m\u001b[0m\u001b[0m\n\u001b[0m\u001b[1;32m    201\u001b[0m             \u001b[0mbatch\u001b[0m\u001b[0;34m.\u001b[0m\u001b[0mappend\u001b[0m\u001b[0;34m(\u001b[0m\u001b[0midx\u001b[0m\u001b[0;34m)\u001b[0m\u001b[0;34m\u001b[0m\u001b[0;34m\u001b[0m\u001b[0m\n\u001b[1;32m    202\u001b[0m             \u001b[0;32mif\u001b[0m \u001b[0mlen\u001b[0m\u001b[0;34m(\u001b[0m\u001b[0mbatch\u001b[0m\u001b[0;34m)\u001b[0m \u001b[0;34m==\u001b[0m \u001b[0mself\u001b[0m\u001b[0;34m.\u001b[0m\u001b[0mbatch_size\u001b[0m\u001b[0;34m:\u001b[0m\u001b[0;34m\u001b[0m\u001b[0;34m\u001b[0m\u001b[0m\n",
      "\u001b[0;32m~/anaconda3/envs/pytorch_latest_p36/lib/python3.6/site-packages/torch/utils/data/sampler.py\u001b[0m in \u001b[0;36m__iter__\u001b[0;34m(self)\u001b[0m\n\u001b[1;32m    105\u001b[0m         \u001b[0;32mif\u001b[0m \u001b[0mself\u001b[0m\u001b[0;34m.\u001b[0m\u001b[0mreplacement\u001b[0m\u001b[0;34m:\u001b[0m\u001b[0;34m\u001b[0m\u001b[0;34m\u001b[0m\u001b[0m\n\u001b[1;32m    106\u001b[0m             \u001b[0;32mreturn\u001b[0m \u001b[0miter\u001b[0m\u001b[0;34m(\u001b[0m\u001b[0mtorch\u001b[0m\u001b[0;34m.\u001b[0m\u001b[0mrandint\u001b[0m\u001b[0;34m(\u001b[0m\u001b[0mhigh\u001b[0m\u001b[0;34m=\u001b[0m\u001b[0mn\u001b[0m\u001b[0;34m,\u001b[0m \u001b[0msize\u001b[0m\u001b[0;34m=\u001b[0m\u001b[0;34m(\u001b[0m\u001b[0mself\u001b[0m\u001b[0;34m.\u001b[0m\u001b[0mnum_samples\u001b[0m\u001b[0;34m,\u001b[0m\u001b[0;34m)\u001b[0m\u001b[0;34m,\u001b[0m \u001b[0mdtype\u001b[0m\u001b[0;34m=\u001b[0m\u001b[0mtorch\u001b[0m\u001b[0;34m.\u001b[0m\u001b[0mint64\u001b[0m\u001b[0;34m)\u001b[0m\u001b[0;34m.\u001b[0m\u001b[0mtolist\u001b[0m\u001b[0;34m(\u001b[0m\u001b[0;34m)\u001b[0m\u001b[0;34m)\u001b[0m\u001b[0;34m\u001b[0m\u001b[0;34m\u001b[0m\u001b[0m\n\u001b[0;32m--> 107\u001b[0;31m         \u001b[0;32mreturn\u001b[0m \u001b[0miter\u001b[0m\u001b[0;34m(\u001b[0m\u001b[0mtorch\u001b[0m\u001b[0;34m.\u001b[0m\u001b[0mrandperm\u001b[0m\u001b[0;34m(\u001b[0m\u001b[0mn\u001b[0m\u001b[0;34m)\u001b[0m\u001b[0;34m.\u001b[0m\u001b[0mtolist\u001b[0m\u001b[0;34m(\u001b[0m\u001b[0;34m)\u001b[0m\u001b[0;34m)\u001b[0m\u001b[0;34m\u001b[0m\u001b[0;34m\u001b[0m\u001b[0m\n\u001b[0m\u001b[1;32m    108\u001b[0m \u001b[0;34m\u001b[0m\u001b[0m\n\u001b[1;32m    109\u001b[0m     \u001b[0;32mdef\u001b[0m \u001b[0m__len__\u001b[0m\u001b[0;34m(\u001b[0m\u001b[0mself\u001b[0m\u001b[0;34m)\u001b[0m\u001b[0;34m:\u001b[0m\u001b[0;34m\u001b[0m\u001b[0;34m\u001b[0m\u001b[0m\n",
      "\u001b[0;31mKeyboardInterrupt\u001b[0m: "
     ]
    }
   ],
   "source": [
    "#early stopping\n",
    "early_stopping = True\n",
    "tol = 0.0001\n",
    "patience = 10\n",
    "\n",
    "#training phase\n",
    "epochs = 1000\n",
    "start_time = time.time()\n",
    "\n",
    "#to plot loss curve after training\n",
    "train_losses = []\n",
    "valid_losses = []\n",
    "early_stop_epochs = 0\n",
    "\n",
    "for epoch in range(epochs):\n",
    "    train_loss = 0\n",
    "    start_time = time.time()\n",
    "    mlp.train()\n",
    "    #num_batch = train_X.shape[0] // 200 + 1\n",
    "    num_batch = len(train_loader)\n",
    "    \n",
    "    for batch_id, (batch_x, batch_y) in enumerate(train_loader):\n",
    "        y_pred = mlp(batch_x)\n",
    "\n",
    "        loss = mae_loss(y_pred, batch_y)\n",
    "\n",
    "        optimizer.zero_grad()\n",
    "        loss.backward()\n",
    "        optimizer.step()\n",
    "\n",
    "        elapsed_time = time.time() - start_time\n",
    "        elapsed_min = int(elapsed_time / 60)\n",
    "        elapsed_sec = elapsed_time - 60 * elapsed_min\n",
    "        \n",
    "        train_loss += loss.item()\n",
    "\n",
    "        print('\\rEpoch:{} Batch:{}/{} Loss:{:.4f} Time:{}m{:.2f}s'.format(epoch + 1, batch_id+1, \n",
    "                                                                          num_batch, loss.item(),\n",
    "                                                                          elapsed_min, elapsed_sec), end='')\n",
    "    print()\n",
    "    mlp.eval()\n",
    "    valid_loss = 0\n",
    "    best_loss = np.inf\n",
    "    num_batch = train_y.shape[0] // 200 + 1\n",
    "    \n",
    "    for batch_id, (batch_x, batch_y) in enumerate(test_loader):\n",
    "    \n",
    "        y_pred = mlp(batch_x)\n",
    "        loss = mae_loss(y_pred, batch_y)\n",
    "        valid_loss += loss.item()\n",
    "    \n",
    "    #valid_loss /= num_batch\n",
    "    #valid_losses.append(valid_loss)\n",
    "    valid_loss /= len(test_loader)\n",
    "    valid_losses.append(valid_loss)\n",
    "    train_loss /= len(train_loader)\n",
    "    train_losses.append(train_loss)\n",
    "    \n",
    "    #save model when validation loss is minimum\n",
    "    if valid_loss < best_loss:\n",
    "        best_loss = valid_loss\n",
    "        torch.save(mlp.state_dict(), 'mlp_timePrediction_pytorch.model')  \n",
    "    \n",
    "    print('Valid Loss:{:.4f}'.format(valid_loss))\n",
    "\n",
    "    #early stopping\n",
    "    if early_stopping and epoch > 0:\n",
    "        if np.abs(valid_losses[-1] - valid_losses[-2]) < tol:\n",
    "            early_stop_epochs += 1\n",
    "        else:\n",
    "            early_stop_epochs = 0\n",
    "        if early_stop_epochs == patience:\n",
    "            print(\"Validation loss has not changed more than {} for {} epochs. Stopping...\".format(tol, patience))\n",
    "            break\n",
    "    \n",
    "runtime = time.time() - start_time\n",
    "\n",
    "print(\"Total Runtime Elapsed: {:.0f} hours {:.0f} minutes {:.2f} seconds.\".format(runtime//3600, runtime%3600//60, runtime%3600%60))"
   ]
  },
  {
   "cell_type": "code",
   "execution_count": 11,
   "metadata": {},
   "outputs": [
    {
     "name": "stdout",
     "output_type": "stream",
     "text": [
      "Minimum Validation Loss is 1243.7571\n",
      "Best iteration: 5\n"
     ]
    },
    {
     "data": {
      "image/png": "[encoded data removed]",
      "text/plain": [
       "<Figure size 1152x360 with 1 Axes>"
      ]
     },
     "metadata": {
      "needs_background": "light"
     },
     "output_type": "display_data"
    }
   ],
   "source": [
    "#plot validation loss curve, this may help to notice overfitting\n",
    "plt.figure(figsize=(16,5))\n",
    "plt.plot(train_losses, label = \"Training Loss\")\n",
    "plt.plot(valid_losses, label = \"Validation Loss\")\n",
    "plt.xlabel(\"Epochs\")\n",
    "plt.ylabel(\"Loss\")\n",
    "plt.legend(loc = 0)\n",
    "\n",
    "print('Minimum Validation Loss is {:.4f}'.format(min(valid_losses)))\n",
    "print(\"Best iteration: {}\".format(np.argmin(valid_losses) + 1))\n",
    "\n",
    "#plt.ylim(0,max(valid_losses)+0.02)\n",
    "#plt.plot(valid_losses)\n",
    "#print('minimum validation loss is {:.4f}'.format(min(valid_losses)))"
   ]
  },
  {
   "cell_type": "code",
   "execution_count": 10,
   "metadata": {
    "scrolled": true
   },
   "outputs": [
    {
     "name": "stdout",
     "output_type": "stream",
     "text": [
      "[1189.8688]\n"
     ]
    }
   ],
   "source": [
    "x_test = np.array([[6,0.031180191,51.51122955,-0.044059634,51.54066292,9681]])\n",
    "input_test = torch.tensor(x_test, dtype=torch.float, device=device )\n",
    "\n",
    "mlp.load_state_dict(torch.load('mlp_timePrediction_pytorch.model'))\n",
    "y_pred = mlp(input_test)\n",
    "y_pred = y_pred.data.cpu().numpy()\n",
    "print(y_pred)\n",
    "#Expected reading should be 911.37"
   ]
  },
  {
   "cell_type": "markdown",
   "metadata": {},
   "source": [
    "# Deploy Model"
   ]
  },
  {
   "cell_type": "code",
   "execution_count": null,
   "metadata": {},
   "outputs": [],
   "source": [
    "time_prediction = prediction_model.deploy(initial_count = 1, instance_type=\"ml.m4.xlarge\"); "
   ]
  }
 ],
 "metadata": {
  "kernelspec": {
   "display_name": "conda_pytorch_latest_p36",
   "language": "python",
   "name": "conda_pytorch_latest_p36"
  },
  "language_info": {
   "codemirror_mode": {
    "name": "ipython",
    "version": 3
   },
   "file_extension": ".py",
   "mimetype": "text/x-python",
   "name": "python",
   "nbconvert_exporter": "python",
   "pygments_lexer": "ipython3",
   "version": "3.6.10"
  }
 },
 "nbformat": 4,
 "nbformat_minor": 4
}
