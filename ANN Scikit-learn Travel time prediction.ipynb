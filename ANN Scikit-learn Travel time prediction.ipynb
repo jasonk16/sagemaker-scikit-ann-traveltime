{
 "cells": [
  {
   "cell_type": "code",
   "execution_count": null,
   "metadata": {},
   "outputs": [],
   "source": [
    "import sagemaker\n",
    "from sagemaker import get_execution_role\n",
    "from sklearn.neural_network import MLPRegressor\n",
    "import joblib"
   ]
  },
  {
   "cell_type": "code",
   "execution_count": null,
   "metadata": {},
   "outputs": [],
   "source": [
    "#Read files here\n",
    "bucket = 'sagemaker-ann-fyp'\n",
    "data_key = 'complete_dataset.csv' \n",
    "travel_data = 's3://{}/{}'.format(bucket,data_key)\n",
    "\n",
    "y = travel_data.mean_travel_time\n",
    "data_features = ['hod','sourcelong','sourcelat','dstlong','dstlat','distance']\n",
    "X = travel_data[data_features]\n",
    "\n",
    "display(X.head())\n",
    "\n",
    "train_X, val_X, train_y, val_y = train_test_split(X,y,random_state=0)"
   ]
  },
  {
   "cell_type": "code",
   "execution_count": null,
   "metadata": {},
   "outputs": [],
   "source": [
    "regression_model = MLPRegressor(solver = 'adam', hidden_layer_sizes=(50,30,10), activation=\"relu\",max_iter=1000)\n",
    "regression_model.fit(train_X,train_y)"
   ]
  },
  {
   "cell_type": "code",
   "execution_count": null,
   "metadata": {},
   "outputs": [],
   "source": [
    "predicted_travel_time = regression_model.predict(val_X)\n",
    "mae = mean_absolute_error(val_y, predicted_travel_time)\n",
    "\n",
    "display(\"MAE: \",mae)"
   ]
  }
 ],
 "metadata": {
  "kernelspec": {
   "display_name": "conda_python3",
   "language": "python",
   "name": "conda_python3"
  },
  "language_info": {
   "codemirror_mode": {
    "name": "ipython",
    "version": 3
   },
   "file_extension": ".py",
   "mimetype": "text/x-python",
   "name": "python",
   "nbconvert_exporter": "python",
   "pygments_lexer": "ipython3",
   "version": "3.6.10"
  }
 },
 "nbformat": 4,
 "nbformat_minor": 4
}
